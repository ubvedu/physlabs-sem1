{
 "cells": [
  {
   "cell_type": "code",
   "execution_count": 22,
   "source": [
    "import numpy as np\n",
    "\n",
    "dm = [245.6, 245.6, 245.7, 246.1, 245.3, 245.5, 245.5, 245.2, 244.4, 245.6]\n",
    "m = np.array([sum(dm[:n + 1]) for n in range(len(dm))])\n",
    "n_rise = np.array([\n",
    "    [14.7, 17.5, 19.9, 22.3, 24.9, 27.3, 29.9, 32.3, 34.9, 35.3],\n",
    "    [14.9, 17.6, 20.2, 22.7, 25.2, 26.8, 28.7, 32.3, 34.7, 37.0],\n",
    "    [14.9, 17.6, 20.2, 22.7, 25.1, 27.5, 29.3, 31.4, 34.0, 35.6],\n",
    "])\n",
    "n_fall = np.array([\n",
    "    [35.3, 33.3, 31.6, 29.9, 27.5, 25.2, 22.7, 20.2, 17.6, 14.9][::-1],\n",
    "    [37.0, 34.5, 32.7, 29.9, 26.8, 25.2, 22.7, 20.2, 17.6, 14.9][::-1],\n",
    "    [35.6, 34.5, 32.3, 30.0, 27.6, 25.3, 22.9, 20.4, 17.7, 14.8][::-1],\n",
    "])\n",
    "h = 1.435\n",
    "r = 0.015"
   ],
   "outputs": [],
   "metadata": {}
  },
  {
   "cell_type": "code",
   "execution_count": 46,
   "source": [
    "n_mean = np.array([np.array(a).mean() for a in zip(*np.concatenate((n_rise, n_fall)))])"
   ],
   "outputs": [],
   "metadata": {}
  },
  {
   "cell_type": "code",
   "execution_count": 54,
   "source": [
    "import matplotlib.pyplot as plt\n",
    "\n",
    "colors = ['#6929c4', '#009d9a']\n",
    "\n",
    "plt.scatter(m, n_mean, color=colors[0] + '40', edgecolors=colors[0])\n",
    "\n",
    "k, b = np.polyfit(m, n_mean, 1)\n",
    "\n",
    "x = np.arange(m.min(), m.max())\n",
    "plt.plot(x, k * x + b, color=colors[1])\n",
    "\n",
    "n_err = np.sqrt(sum((n_mean - (k * m + b)) ** 2) / len(n_mean - 1))\n",
    "\n",
    "# plt.errorbar(m, n_mean, n_err, fmt='none', color=colors[0])\n",
    "\n",
    "pass"
   ],
   "outputs": [
    {
     "output_type": "display_data",
     "data": {
      "image/png": "[encoded data removed]",
      "text/plain": [
       "<Figure size 432x288 with 1 Axes>"
      ]
     },
     "metadata": {
      "needs_background": "light"
     }
    }
   ],
   "metadata": {}
  }
 ],
 "metadata": {
  "orig_nbformat": 4,
  "language_info": {
   "name": "python"
  }
 },
 "nbformat": 4,
 "nbformat_minor": 2
}